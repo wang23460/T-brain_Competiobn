{
 "cells": [
  {
   "cell_type": "code",
   "execution_count": 1,
   "metadata": {},
   "outputs": [],
   "source": [
    "import os\n",
    "import numpy as np\n",
    "import pandas as pd\n",
    "import matplotlib.pyplot as plt\n",
    "%matplotlib inline"
   ]
  },
  {
   "cell_type": "code",
   "execution_count": 2,
   "metadata": {},
   "outputs": [
    {
     "name": "stderr",
     "output_type": "stream",
     "text": [
      "C:\\Users\\user\\Anaconda3\\lib\\site-packages\\sklearn\\cross_validation.py:41: DeprecationWarning: This module was deprecated in version 0.18 in favor of the model_selection module into which all the refactored classes and functions are moved. Also note that the interface of the new CV iterators are different from that of this module. This module will be removed in 0.20.\n",
      "  \"This module will be removed in 0.20.\", DeprecationWarning)\n"
     ]
    }
   ],
   "source": [
    "from sklearn.cross_validation import train_test_split\n",
    "from sklearn.tree import DecisionTreeClassifier\n",
    "from sklearn.metrics import accuracy_score\n",
    "from sklearn import tree"
   ]
  },
  {
   "cell_type": "markdown",
   "metadata": {},
   "source": [
    "### **Step 1 : 建模**\n",
    "##### M1 = 9447 ~ 9477 / M2 = 9477 ~ 9507 / M3 = 9507 ~ 9537 / M4 = 9537 ~ 9567"
   ]
  },
  {
   "cell_type": "markdown",
   "metadata": {},
   "source": [
    "#### **1. 匯入所有商品30~60(m3)有無購買資料, 基本屬性資料, 網址資料**"
   ]
  },
  {
   "cell_type": "code",
   "execution_count": 3,
   "metadata": {},
   "outputs": [],
   "source": [
    "fx_m3 = pd.read_csv('./data/fx_m3.csv')\n",
    "cc_m3 = pd.read_csv('./data/cc_m3.csv')\n",
    "ln_m3 = pd.read_csv('./data/ln_m3.csv')\n",
    "wm_m3 = pd.read_csv('./data/wm_m3.csv')\n",
    "cif_use = pd.read_csv('./data/cif_use.csv')\n",
    "web_train = pd.read_csv('./data/web_train.csv')\n",
    "# cif_use.drop(['CUST_START_DT'], axis = 1, inplace = True)"
   ]
  },
  {
   "cell_type": "code",
   "execution_count": 4,
   "metadata": {},
   "outputs": [
    {
     "data": {
      "text/plain": [
       "(187679, 7)"
      ]
     },
     "execution_count": 4,
     "metadata": {},
     "output_type": "execute_result"
    }
   ],
   "source": [
    "cif_use.shape"
   ]
  },
  {
   "cell_type": "markdown",
   "metadata": {},
   "source": [
    "#### **2. 處理信用卡資料**"
   ]
  },
  {
   "cell_type": "code",
   "execution_count": 5,
   "metadata": {},
   "outputs": [],
   "source": [
    "tb_cc = pd.read_csv('./data/TBN_CC_APPLY.csv')\n",
    "tb_cc.rename(columns={'TXN_DT':'CC_DT'}, inplace = True)"
   ]
  },
  {
   "cell_type": "code",
   "execution_count": 6,
   "metadata": {},
   "outputs": [],
   "source": [
    "# 計算30天以上,120天以內購買次數(m1~m3, 9447~9537)\n",
    "cc_90 = tb_cc.loc[tb_cc['CC_DT'] <= 9537,['CUST_NO', 'CC_DT']]\n",
    "cc_90.reset_index(drop=True, inplace=True)\n",
    "cc_90['CC_DT'] = 1\n",
    "cc_90 = cc_90.groupby('CUST_NO').sum().reset_index(level=0)\n",
    "cc_90.columns = ['CUST_NO','CC_count']"
   ]
  },
  {
   "cell_type": "code",
   "execution_count": 7,
   "metadata": {},
   "outputs": [],
   "source": [
    "# 篩出0~30天(m4)有無購買(Y)\n",
    "tb_cc['CC_Y'] = [1 if i >= 9537 else 0 for i in tb_cc['CC_DT']]\n",
    "cc_y = tb_cc.loc[tb_cc['CC_Y'] == 1,['CUST_NO', 'CC_Y']].drop_duplicates(subset = 'CUST_NO')"
   ]
  },
  {
   "cell_type": "code",
   "execution_count": 8,
   "metadata": {},
   "outputs": [],
   "source": [
    "# 合併cc所需資料\n",
    "cc_train = cc_90.merge(cc_y, on = 'CUST_NO', how = 'left')\n",
    "cc_train = cc_train.fillna(0)"
   ]
  },
  {
   "cell_type": "markdown",
   "metadata": {},
   "source": [
    "#### **3. 以基本屬性為底,合併網址、信用卡、其他商品m3有無購買之資料**"
   ]
  },
  {
   "cell_type": "code",
   "execution_count": 13,
   "metadata": {},
   "outputs": [],
   "source": [
    "cc_forecast = cif_use.merge(web_train, on = 'CUST_NO', how = 'left').merge(cc_train, on = 'CUST_NO', how = 'left').merge(cc_m3, on = 'CUST_NO', how = 'left')\\\n",
    ".merge(ln_m3, on = 'CUST_NO', how = 'left').merge(wm_m3, on = 'CUST_NO', how = 'left').merge(fx_m3, on = 'CUST_NO', how = 'left')"
   ]
  },
  {
   "cell_type": "code",
   "execution_count": 15,
   "metadata": {},
   "outputs": [],
   "source": [
    "cc_forecast = cc_forecast.fillna(0)\n",
    "cc_forecast_list = [i for i in cc_forecast.columns if i !='CUST_NO' and i!='GENDER_CODE' and i != 'AGE']\n",
    "cc_forecast[cc_forecast_list] = cc_forecast[cc_forecast_list].apply(lambda x:x.astype(int))"
   ]
  },
  {
   "cell_type": "code",
   "execution_count": 16,
   "metadata": {},
   "outputs": [
    {
     "data": {
      "text/plain": [
       "0    181549\n",
       "1      6130\n",
       "Name: CC_M3, dtype: int64"
      ]
     },
     "execution_count": 16,
     "metadata": {},
     "output_type": "execute_result"
    }
   ],
   "source": [
    "cc_forecast['CC_M3'].value_counts()"
   ]
  },
  {
   "cell_type": "markdown",
   "metadata": {},
   "source": [
    "#### 4. **決策樹**"
   ]
  },
  {
   "cell_type": "code",
   "execution_count": 17,
   "metadata": {},
   "outputs": [],
   "source": [
    "X = cc_forecast.drop(['CUST_NO', 'CC_Y'], axis = 1)\n",
    "Y = cc_forecast['CC_Y']\n",
    "X_train, X_test, Y_train, Y_test = train_test_split(X, Y, test_size=0.30,random_state=0)"
   ]
  },
  {
   "cell_type": "code",
   "execution_count": 18,
   "metadata": {},
   "outputs": [
    {
     "name": "stdout",
     "output_type": "stream",
     "text": [
      "X_train : (131375, 18)\n",
      "Y_train (131375,)\n",
      "X_test : (56304, 18)\n",
      "Y_test (56304,)\n"
     ]
    }
   ],
   "source": [
    "print('X_train :',X_train.shape)\n",
    "print('Y_train', Y_train.shape)\n",
    "print('X_test :', X_test.shape)\n",
    "print('Y_test', Y_test.shape)"
   ]
  },
  {
   "cell_type": "code",
   "execution_count": 19,
   "metadata": {},
   "outputs": [
    {
     "data": {
      "text/plain": [
       "DecisionTreeClassifier(class_weight=None, criterion='entropy', max_depth=3,\n",
       "            max_features=None, max_leaf_nodes=None,\n",
       "            min_impurity_decrease=0.0, min_impurity_split=None,\n",
       "            min_samples_leaf=5, min_samples_split=2,\n",
       "            min_weight_fraction_leaf=0.0, presort=False, random_state=None,\n",
       "            splitter='best')"
      ]
     },
     "execution_count": 19,
     "metadata": {},
     "output_type": "execute_result"
    }
   ],
   "source": [
    "cc_tree = DecisionTreeClassifier(criterion = \"entropy\",\n",
    "                                 max_depth=3, min_samples_leaf=5)\n",
    "cc_tree.fit(X_train, Y_train)"
   ]
  },
  {
   "cell_type": "code",
   "execution_count": 20,
   "metadata": {},
   "outputs": [],
   "source": [
    "cc_predict = cc_tree.predict(X_test)"
   ]
  },
  {
   "cell_type": "code",
   "execution_count": 21,
   "metadata": {},
   "outputs": [
    {
     "data": {
      "text/plain": [
       "0    56304\n",
       "dtype: int64"
      ]
     },
     "execution_count": 21,
     "metadata": {},
     "output_type": "execute_result"
    }
   ],
   "source": [
    "pd.Series(cc_predict.tolist()).value_counts()"
   ]
  },
  {
   "cell_type": "code",
   "execution_count": 22,
   "metadata": {},
   "outputs": [
    {
     "name": "stdout",
     "output_type": "stream",
     "text": [
      "Accuracy is  99.52401250355216\n"
     ]
    }
   ],
   "source": [
    "# print(classification_report(Y_test,fx_predict))\n",
    "print(\"Accuracy is \", accuracy_score(Y_test, cc_predict)*100)\n",
    "# print(confusion_matrix(y_test,predictions))"
   ]
  },
  {
   "cell_type": "markdown",
   "metadata": {},
   "source": [
    "### **Step 2 : Load 預測資料集**"
   ]
  },
  {
   "cell_type": "code",
   "execution_count": 23,
   "metadata": {},
   "outputs": [],
   "source": [
    "Y_zero  = pd.read_csv('./data/TBN_Y_ZERO.csv')\n",
    "# Y_zero  = pd.read_csv('./data/TBN_Y_ZERO.csv', usecols = ['CUST_NO', 'FX_IND'])"
   ]
  },
  {
   "cell_type": "markdown",
   "metadata": {},
   "source": [
    "#### **1. 匯入所有商品0~30(m4)有無購買,網址資料(m3,m4)**"
   ]
  },
  {
   "cell_type": "code",
   "execution_count": 24,
   "metadata": {},
   "outputs": [],
   "source": [
    "fx_m4 = pd.read_csv('./data/fx_m4.csv')\n",
    "cc_m4 = pd.read_csv('./data/cc_m4.csv')\n",
    "ln_m4 = pd.read_csv('./data/ln_m4.csv')\n",
    "wm_m4 = pd.read_csv('./data/wm_m4.csv')\n",
    "web_test = pd.read_csv('./data/web_test.csv')"
   ]
  },
  {
   "cell_type": "code",
   "execution_count": 25,
   "metadata": {},
   "outputs": [
    {
     "data": {
      "text/plain": [
       "(106655, 8)"
      ]
     },
     "execution_count": 25,
     "metadata": {},
     "output_type": "execute_result"
    }
   ],
   "source": [
    "web_test.shape"
   ]
  },
  {
   "cell_type": "markdown",
   "metadata": {},
   "source": [
    "#### **2. 處理信用卡資料**"
   ]
  },
  {
   "cell_type": "code",
   "execution_count": 26,
   "metadata": {},
   "outputs": [],
   "source": [
    "# 計算0~90天以內購買次數(m2~m4, 9477~9567)\n",
    "cc_test = tb_cc.loc[tb_cc['CC_DT'] > 9477,['CUST_NO', 'CC_DT']]\n",
    "cc_test.reset_index(drop=True, inplace=True)\n",
    "cc_test['CC_DT'] = 1\n",
    "cc_test = cc_test.groupby('CUST_NO').sum().reset_index(level=0)\n",
    "cc_test.columns = ['CUST_NO','CC_count']"
   ]
  },
  {
   "cell_type": "markdown",
   "metadata": {},
   "source": [
    "#### **3. 以Y為底，合併基本屬性,網址、外匯、其他商品m3有無購買之資料**"
   ]
  },
  {
   "cell_type": "code",
   "execution_count": 27,
   "metadata": {},
   "outputs": [],
   "source": [
    "Y_cc = Y_zero[['CUST_NO']].merge(cif_use, on = 'CUST_NO', how = 'left').merge(web_test, on = 'CUST_NO', how = 'left').merge(cc_test, on = 'CUST_NO', how = 'left')\\\n",
    ".merge(cc_m4, on = 'CUST_NO', how = 'left').merge(wm_m4, on = 'CUST_NO', how = 'left').merge(fx_m4, on = 'CUST_NO', how = 'left').merge(ln_m4, on = 'CUST_NO', how = 'left')"
   ]
  },
  {
   "cell_type": "code",
   "execution_count": 30,
   "metadata": {},
   "outputs": [
    {
     "data": {
      "text/plain": [
       "(146, 19)"
      ]
     },
     "execution_count": 30,
     "metadata": {},
     "output_type": "execute_result"
    }
   ],
   "source": [
    "Y_cc.loc[Y_cc['GENDER_CODE'].isnull(),:].shape"
   ]
  },
  {
   "cell_type": "markdown",
   "metadata": {},
   "source": [
    "##### **3.1 處裡基本屬性資料**"
   ]
  },
  {
   "cell_type": "code",
   "execution_count": 35,
   "metadata": {},
   "outputs": [
    {
     "data": {
      "text/plain": [
       "CUST_NO              False\n",
       "AGE                  False\n",
       "CHILDREN_CNT         False\n",
       "EDU_CODE             False\n",
       "GENDER_CODE          False\n",
       "INCOME_RANGE_CODE    False\n",
       "WORK_MTHS            False\n",
       "web_1                False\n",
       "web_2                False\n",
       "web_3                False\n",
       "web_4                False\n",
       "web_5                False\n",
       "web_6                False\n",
       "web_7                False\n",
       "CC_count             False\n",
       "CC_M4                False\n",
       "WM_M4                False\n",
       "FX_M4                False\n",
       "LN_M4                False\n",
       "dtype: bool"
      ]
     },
     "execution_count": 35,
     "metadata": {},
     "output_type": "execute_result"
    }
   ],
   "source": [
    "Y_cc.isnull().any()"
   ]
  },
  {
   "cell_type": "code",
   "execution_count": 32,
   "metadata": {},
   "outputs": [],
   "source": [
    "m_edu = round(Y_cc.loc[:,'EDU_CODE'].mean())\n",
    "m_income = round(Y_cc.loc[:, 'INCOME_RANGE_CODE'].mean())\n",
    "m_work = round(Y_cc.loc[:, 'WORK_MTHS'].mean())\n",
    "m_age = round(Y_cc.loc[:, 'AGE'].mean())\n",
    "name_ = Y_cc.columns.tolist()[1:7]\n",
    "mean_ = [m_age, 0, m_edu, 2, m_income, m_work] \n",
    "for i,j in zip(name_, mean_):\n",
    "    Y_cc.loc[:,i] = Y_cc.loc[:, i].fillna(j)"
   ]
  },
  {
   "cell_type": "code",
   "execution_count": 34,
   "metadata": {},
   "outputs": [],
   "source": [
    "Y_cc = Y_cc.fillna(0)\n",
    "Y_cc_list = [i for i in Y_cc.columns if i !='CUST_NO']\n",
    "Y_cc[Y_cc_list] = Y_cc[Y_cc_list].apply(lambda x:x.astype(int))"
   ]
  },
  {
   "cell_type": "markdown",
   "metadata": {},
   "source": [
    "#### **4. 決策樹**"
   ]
  },
  {
   "cell_type": "code",
   "execution_count": 36,
   "metadata": {},
   "outputs": [],
   "source": [
    "X_train = cc_forecast.drop(['CUST_NO', 'CC_Y'], axis = 1)\n",
    "Y_train = cc_forecast['CC_Y']\n",
    "X_test = Y_cc.drop(['CUST_NO'], axis = 1)"
   ]
  },
  {
   "cell_type": "code",
   "execution_count": 37,
   "metadata": {},
   "outputs": [
    {
     "name": "stdout",
     "output_type": "stream",
     "text": [
      "X_train : (187679, 18)\n",
      "Y_train (187679,)\n",
      "X_test : (30000, 18)\n"
     ]
    }
   ],
   "source": [
    "print('X_train :',X_train.shape)\n",
    "print('Y_train', Y_train.shape)\n",
    "print('X_test :', X_test.shape)\n",
    "# print('Y_test', Y_test.shape)"
   ]
  },
  {
   "cell_type": "code",
   "execution_count": 38,
   "metadata": {},
   "outputs": [
    {
     "data": {
      "text/plain": [
       "DecisionTreeClassifier(class_weight=None, criterion='entropy', max_depth=3,\n",
       "            max_features=None, max_leaf_nodes=None,\n",
       "            min_impurity_decrease=0.0, min_impurity_split=None,\n",
       "            min_samples_leaf=5, min_samples_split=2,\n",
       "            min_weight_fraction_leaf=0.0, presort=False, random_state=None,\n",
       "            splitter='best')"
      ]
     },
     "execution_count": 38,
     "metadata": {},
     "output_type": "execute_result"
    }
   ],
   "source": [
    "cc_tree = DecisionTreeClassifier(criterion = \"entropy\",\n",
    "                               max_depth=3, min_samples_leaf=5)\n",
    "cc_tree.fit(X_train, Y_train)"
   ]
  },
  {
   "cell_type": "code",
   "execution_count": 39,
   "metadata": {},
   "outputs": [],
   "source": [
    "cc_predict = cc_tree.predict(X_test).tolist()"
   ]
  },
  {
   "cell_type": "code",
   "execution_count": 29,
   "metadata": {},
   "outputs": [],
   "source": [
    "# pd.Series(cc_predict.tolist()).value_counts()"
   ]
  },
  {
   "cell_type": "code",
   "execution_count": 40,
   "metadata": {},
   "outputs": [],
   "source": [
    "Y_zero['CC_IND'] = cc_predict"
   ]
  },
  {
   "cell_type": "code",
   "execution_count": 43,
   "metadata": {},
   "outputs": [],
   "source": [
    "# Y_zero[Y_zero['CC_IND'] == 0]"
   ]
  },
  {
   "cell_type": "code",
   "execution_count": 47,
   "metadata": {},
   "outputs": [],
   "source": [
    "TBN_Y_CC = Y_zero.loc[:,['CUST_NO', 'CC_IND']]\n",
    "TBN_Y_CC.head()\n",
    "TBN_Y_CC.to_csv('./data/TBN_Y_CC.csv', index = False)"
   ]
  }
 ],
 "metadata": {
  "kernelspec": {
   "display_name": "Python 3",
   "language": "python",
   "name": "python3"
  },
  "language_info": {
   "codemirror_mode": {
    "name": "ipython",
    "version": 3
   },
   "file_extension": ".py",
   "mimetype": "text/x-python",
   "name": "python",
   "nbconvert_exporter": "python",
   "pygments_lexer": "ipython3",
   "version": "3.7.0"
  }
 },
 "nbformat": 4,
 "nbformat_minor": 2
}
