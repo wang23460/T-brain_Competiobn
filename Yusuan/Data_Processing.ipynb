{
 "cells": [
  {
   "cell_type": "code",
   "execution_count": 1,
   "metadata": {},
   "outputs": [],
   "source": [
    "import os\n",
    "import numpy as np\n",
    "import pandas as pd\n",
    "import matplotlib.pyplot as plt\n",
    "import warnings\n",
    "warnings.filterwarnings('ignore')\n",
    "%matplotlib inline"
   ]
  },
  {
   "cell_type": "code",
   "execution_count": 2,
   "metadata": {},
   "outputs": [],
   "source": [
    "tb_data = './data/'"
   ]
  },
  {
   "cell_type": "markdown",
   "metadata": {},
   "source": [
    "##### M1 = 9447 ~ 9477 / M2 = 9477 ~ 9507 / M3 = 9507 ~ 9537 / M4 = 9537 ~ 9567"
   ]
  },
  {
   "cell_type": "markdown",
   "metadata": {},
   "source": [
    "### **1. All : 處理基本屬性資料**"
   ]
  },
  {
   "cell_type": "code",
   "execution_count": 18,
   "metadata": {},
   "outputs": [],
   "source": [
    "CIF = os.path.join(tb_data, 'TBN_CIF.csv')\n",
    "cif_use = pd.read_csv(CIF)\n",
    "cif_use.drop(['CUST_START_DT'], axis = 1, inplace = True)\n",
    "cif_use['GENDER_CODE'] = cif_use['GENDER_CODE'].map({'F': 1, 'M': 0})"
   ]
  },
  {
   "cell_type": "code",
   "execution_count": 19,
   "metadata": {},
   "outputs": [
    {
     "name": "stdout",
     "output_type": "stream",
     "text": [
      "<class 'pandas.core.frame.DataFrame'>\n",
      "RangeIndex: 187679 entries, 0 to 187678\n",
      "Data columns (total 7 columns):\n",
      "CUST_NO              187679 non-null object\n",
      "AGE                  187679 non-null int64\n",
      "CHILDREN_CNT         187247 non-null float64\n",
      "EDU_CODE             158691 non-null float64\n",
      "GENDER_CODE          185685 non-null float64\n",
      "INCOME_RANGE_CODE    187297 non-null float64\n",
      "WORK_MTHS            151489 non-null float64\n",
      "dtypes: float64(5), int64(1), object(1)\n",
      "memory usage: 10.0+ MB\n",
      "None\n",
      "---------\n",
      "CUST_NO              False\n",
      "AGE                  False\n",
      "CHILDREN_CNT          True\n",
      "EDU_CODE              True\n",
      "GENDER_CODE           True\n",
      "INCOME_RANGE_CODE     True\n",
      "WORK_MTHS             True\n",
      "dtype: bool\n"
     ]
    }
   ],
   "source": [
    "cif_use.reset_index(drop=True, inplace=True)\n",
    "print(cif_use.info())\n",
    "print('---------')\n",
    "print(cif_use.isnull().any())"
   ]
  },
  {
   "cell_type": "code",
   "execution_count": 16,
   "metadata": {},
   "outputs": [],
   "source": [
    "cif_use['GENDER_CODE'] = cif_use['GENDER_CODE'].map({'F': 1, 'M': 0})\n",
    "m_edu = round(cif_use.loc[:,'EDU_CODE'].mean())\n",
    "m_income = round(cif_use.loc[:, 'INCOME_RANGE_CODE'].mean())\n",
    "m_work = round(cif_use.loc[:, 'WORK_MTHS'].mean())\n",
    "name_ = cif_use.columns.tolist()[2:7]\n",
    "mean_ = [0, m_edu, 2, m_income, m_work] \n",
    "for i,j in zip(name_, mean_):\n",
    "    cif_use.loc[:,i] = cif_use.loc[:, i].fillna(j)"
   ]
  },
  {
   "cell_type": "code",
   "execution_count": 17,
   "metadata": {},
   "outputs": [
    {
     "data": {
      "text/html": [
       "<div>\n",
       "<style scoped>\n",
       "    .dataframe tbody tr th:only-of-type {\n",
       "        vertical-align: middle;\n",
       "    }\n",
       "\n",
       "    .dataframe tbody tr th {\n",
       "        vertical-align: top;\n",
       "    }\n",
       "\n",
       "    .dataframe thead th {\n",
       "        text-align: right;\n",
       "    }\n",
       "</style>\n",
       "<table border=\"1\" class=\"dataframe\">\n",
       "  <thead>\n",
       "    <tr style=\"text-align: right;\">\n",
       "      <th></th>\n",
       "      <th>CUST_NO</th>\n",
       "      <th>AGE</th>\n",
       "      <th>CHILDREN_CNT</th>\n",
       "      <th>EDU_CODE</th>\n",
       "      <th>GENDER_CODE</th>\n",
       "      <th>INCOME_RANGE_CODE</th>\n",
       "      <th>WORK_MTHS</th>\n",
       "    </tr>\n",
       "  </thead>\n",
       "  <tbody>\n",
       "    <tr>\n",
       "      <th>0</th>\n",
       "      <td>UFUIMEGMK2KTIWI4</td>\n",
       "      <td>1</td>\n",
       "      <td>0.0</td>\n",
       "      <td>4.0</td>\n",
       "      <td>2.0</td>\n",
       "      <td>1.0</td>\n",
       "      <td>1.0</td>\n",
       "    </tr>\n",
       "    <tr>\n",
       "      <th>1</th>\n",
       "      <td>3HJN2X_LGBHBKILI</td>\n",
       "      <td>3</td>\n",
       "      <td>0.0</td>\n",
       "      <td>4.0</td>\n",
       "      <td>2.0</td>\n",
       "      <td>1.0</td>\n",
       "      <td>1.0</td>\n",
       "    </tr>\n",
       "    <tr>\n",
       "      <th>2</th>\n",
       "      <td>MNEZK2O3OE-JHYBW</td>\n",
       "      <td>4</td>\n",
       "      <td>0.0</td>\n",
       "      <td>3.0</td>\n",
       "      <td>2.0</td>\n",
       "      <td>2.0</td>\n",
       "      <td>2.0</td>\n",
       "    </tr>\n",
       "    <tr>\n",
       "      <th>3</th>\n",
       "      <td>W7ADZSWYXEMHB7JQ</td>\n",
       "      <td>4</td>\n",
       "      <td>0.0</td>\n",
       "      <td>5.0</td>\n",
       "      <td>2.0</td>\n",
       "      <td>2.0</td>\n",
       "      <td>1.0</td>\n",
       "    </tr>\n",
       "    <tr>\n",
       "      <th>4</th>\n",
       "      <td>ODB6BA6ORHL2UYZE</td>\n",
       "      <td>4</td>\n",
       "      <td>0.0</td>\n",
       "      <td>3.0</td>\n",
       "      <td>2.0</td>\n",
       "      <td>2.0</td>\n",
       "      <td>1.0</td>\n",
       "    </tr>\n",
       "  </tbody>\n",
       "</table>\n",
       "</div>"
      ],
      "text/plain": [
       "            CUST_NO  AGE  CHILDREN_CNT  EDU_CODE  GENDER_CODE  \\\n",
       "0  UFUIMEGMK2KTIWI4    1           0.0       4.0          2.0   \n",
       "1  3HJN2X_LGBHBKILI    3           0.0       4.0          2.0   \n",
       "2  MNEZK2O3OE-JHYBW    4           0.0       3.0          2.0   \n",
       "3  W7ADZSWYXEMHB7JQ    4           0.0       5.0          2.0   \n",
       "4  ODB6BA6ORHL2UYZE    4           0.0       3.0          2.0   \n",
       "\n",
       "   INCOME_RANGE_CODE  WORK_MTHS  \n",
       "0                1.0        1.0  \n",
       "1                1.0        1.0  \n",
       "2                2.0        2.0  \n",
       "3                2.0        1.0  \n",
       "4                2.0        1.0  "
      ]
     },
     "execution_count": 17,
     "metadata": {},
     "output_type": "execute_result"
    }
   ],
   "source": [
    "cif_use.head()"
   ]
  },
  {
   "cell_type": "code",
   "execution_count": 19,
   "metadata": {},
   "outputs": [
    {
     "data": {
      "text/plain": [
       "(187679, 7)"
      ]
     },
     "execution_count": 19,
     "metadata": {},
     "output_type": "execute_result"
    }
   ],
   "source": [
    "cif_use.shape"
   ]
  },
  {
   "cell_type": "code",
   "execution_count": 8,
   "metadata": {},
   "outputs": [],
   "source": [
    "cif_use.to_csv('./data/cif_use.csv', index = False)"
   ]
  },
  {
   "cell_type": "markdown",
   "metadata": {},
   "source": [
    "### **2.1 Train_use :**\n",
    "#### **篩出Train所需之各個商品30天內有無購買(30~60天, m3)**"
   ]
  },
  {
   "cell_type": "code",
   "execution_count": 10,
   "metadata": {},
   "outputs": [],
   "source": [
    "## 外匯\n",
    "FX = os.path.join(tb_data, 'TBN_FX_TXN.csv')\n",
    "tb_fx = pd.read_csv(FX)\n",
    "tb_fx.rename(columns={'TXN_DT':'FX_DT'}, inplace = True)\n",
    "tb_fx['FX_30'] = [1 if 9507 < i <= 9537 else 0 for i in tb_fx['FX_DT']]\n",
    "fx_m3 = tb_fx.loc[tb_fx['FX_30'] == 1,['CUST_NO', 'FX_30']].drop_duplicates(subset = 'CUST_NO')\n",
    "fx_m3.reset_index(drop=True, inplace=True)\n",
    "fx_m3.to_csv('./data/fx_m3.csv', index = False)"
   ]
  },
  {
   "cell_type": "code",
   "execution_count": 11,
   "metadata": {},
   "outputs": [],
   "source": [
    "## 信用卡\n",
    "tb_cc = pd.read_csv('./data/TBN_CC_APPLY.csv')\n",
    "tb_cc.rename(columns={'TXN_DT':'CC_DT'}, inplace = True)\n",
    "tb_cc['CC_30'] = [1 if 9507 < i <= 9537 else 0 for i in tb_cc['CC_DT']]\n",
    "cc_m3 = tb_cc.loc[tb_cc['CC_30'] == 1,['CUST_NO', 'CC_30']].drop_duplicates(subset = 'CUST_NO')\n",
    "cc_m3.reset_index(drop = True, inplace = True)\n",
    "cc_m3.to_csv('./data/cc_m3.csv', index = False)"
   ]
  },
  {
   "cell_type": "code",
   "execution_count": 12,
   "metadata": {},
   "outputs": [],
   "source": [
    "## 信貸\n",
    "tb_ln = pd.read_csv('./data/TBN_LN_APPLY.csv')\n",
    "tb_ln.rename(columns={'TXN_DT':'LN_DT'}, inplace = True)\n",
    "tb_ln['LN_30'] = [1 if 9507 < i <= 9537 else 0 for i in tb_ln['LN_DT']]\n",
    "ln_m3 = tb_ln.loc[tb_ln['LN_30'] == 1,['CUST_NO', 'LN_30']].drop_duplicates(subset = 'CUST_NO')\n",
    "ln_m3.reset_index(drop = True, inplace = True)\n",
    "ln_m3.to_csv('./data/ln_m3.csv', index = False)"
   ]
  },
  {
   "cell_type": "code",
   "execution_count": 13,
   "metadata": {},
   "outputs": [],
   "source": [
    "## 信託\n",
    "tb_wm = pd.read_csv('./data/TBN_WM_TXN.csv')\n",
    "tb_wm.rename(columns={'TXN_DT':'WM_DT'}, inplace = True)\n",
    "tb_wm['WM_30'] = [1 if 9507 < i <= 9537 else 0 for i in tb_wm['WM_DT']]\n",
    "wm_m3 = tb_wm.loc[tb_wm['WM_30'] == 1,['CUST_NO', 'WM_30']].drop_duplicates(subset = 'CUST_NO')\n",
    "wm_m3.reset_index(drop = True, inplace = True)\n",
    "wm_m3.to_csv('./data/wm_m3.csv', index = False)"
   ]
  },
  {
   "cell_type": "markdown",
   "metadata": {},
   "source": [
    "### **2.2 Y_Zero_use :** \n",
    "#### **篩出Predict所需之各個商品30天內有無購買(0~30天, m4)**"
   ]
  },
  {
   "cell_type": "code",
   "execution_count": 15,
   "metadata": {},
   "outputs": [],
   "source": [
    "## 外匯\n",
    "FX = os.path.join(tb_data, 'TBN_FX_TXN.csv')\n",
    "tb_fx = pd.read_csv(FX)\n",
    "tb_fx.rename(columns={'TXN_DT':'FX_DT'}, inplace = True)\n",
    "tb_fx['FX_30'] = [1 if 9537 < i <= 9567 else 0 for i in tb_fx['FX_DT']]\n",
    "fx_m4 = tb_fx.loc[tb_fx['FX_30'] == 1,['CUST_NO', 'FX_30']].drop_duplicates(subset = 'CUST_NO')\n",
    "fx_m4.reset_index(drop=True, inplace=True)\n",
    "fx_m4.to_csv('./data/fx_m4.csv', index = False)"
   ]
  },
  {
   "cell_type": "code",
   "execution_count": 16,
   "metadata": {},
   "outputs": [],
   "source": [
    "## 信用卡\n",
    "tb_cc = pd.read_csv('./data/TBN_CC_APPLY.csv')\n",
    "tb_cc.rename(columns={'TXN_DT':'CC_DT'}, inplace = True)\n",
    "tb_cc['CC_30'] = [1 if 9537 < i <= 9567 else 0 for i in tb_cc['CC_DT']]\n",
    "cc_m4 = tb_cc.loc[tb_cc['CC_30'] == 1,['CUST_NO', 'CC_30']].drop_duplicates(subset = 'CUST_NO')\n",
    "cc_m4.reset_index(drop = True, inplace = True)\n",
    "cc_m4.to_csv('./data/cc_m4.csv', index = False)"
   ]
  },
  {
   "cell_type": "code",
   "execution_count": 17,
   "metadata": {},
   "outputs": [],
   "source": [
    "## 信貸\n",
    "tb_ln = pd.read_csv('./data/TBN_LN_APPLY.csv')\n",
    "tb_ln.rename(columns={'TXN_DT':'LN_DT'}, inplace = True)\n",
    "tb_ln['LN_30'] = [1 if 9537 < i <= 9567 else 0 for i in tb_ln['LN_DT']]\n",
    "ln_m4 = tb_ln.loc[tb_ln['LN_30'] == 1,['CUST_NO', 'LN_30']].drop_duplicates(subset = 'CUST_NO')\n",
    "ln_m4.reset_index(drop = True, inplace = True)\n",
    "ln_m4.to_csv('./data/ln_m4.csv', index = False)"
   ]
  },
  {
   "cell_type": "code",
   "execution_count": 18,
   "metadata": {},
   "outputs": [],
   "source": [
    "## 信託\n",
    "tb_wm = pd.read_csv('./data/TBN_WM_TXN.csv')\n",
    "tb_wm.rename(columns={'TXN_DT':'WM_DT'}, inplace = True)\n",
    "tb_wm['WM_30'] = [1 if 9537 < i <= 9567 else 0 for i in tb_wm['WM_DT']]\n",
    "wm_m4 = tb_wm.loc[tb_wm['WM_30'] == 1,['CUST_NO', 'WM_30']].drop_duplicates(subset = 'CUST_NO')\n",
    "wm_m4.reset_index(drop = True, inplace = True)\n",
    "wm_m4.to_csv('./data/wm_m4.csv', index = False)"
   ]
  },
  {
   "cell_type": "markdown",
   "metadata": {},
   "source": [
    "### **3.1 Train_use: 處理網址資料**\n",
    "##### **篩出m3網址瀏覽之資料>10000**"
   ]
  },
  {
   "cell_type": "code",
   "execution_count": 21,
   "metadata": {},
   "outputs": [],
   "source": [
    "tb_data = './data/'\n",
    "cust = os.path.join(tb_data, 'TBN_CUST_BEHAVIOR.csv')\n",
    "tb_web = pd.read_csv(cust)\n",
    "tb_web['PAGE_3'] = tb_web['PAGE'].str.split('/').str.get(3)\n",
    "tb_web['PAGE_4'] = tb_web['PAGE'].str.split('/').str.get(4)\n",
    "tb_web['PAGE_M'] = tb_web['PAGE_3'] +'/' + tb_web['PAGE_4']"
   ]
  },
  {
   "cell_type": "code",
   "execution_count": 22,
   "metadata": {},
   "outputs": [],
   "source": [
    "#篩出30~60天(m3)的瀏覽資料,擷取網址\n",
    "web_m3 = tb_web[np.logical_and(tb_web['VISITDATE'] <= 9537, tb_web['VISITDATE'] > 9507)]\n",
    "web_m3.reset_index(drop = True, inplace = True)"
   ]
  },
  {
   "cell_type": "markdown",
   "metadata": {},
   "source": [
    "##### **篩m3網址瀏覽次數>10000**"
   ]
  },
  {
   "cell_type": "code",
   "execution_count": 23,
   "metadata": {},
   "outputs": [],
   "source": [
    "#做網址dummy，合併cust_no,計算客戶單一網址瀏覽次數\n",
    "web_dummy_m3 = pd.get_dummies(web_m3['PAGE_M'])\n",
    "#sum the columns\n",
    "row_m3 = {col: web_dummy_m3[col].sum() for col in web_dummy_m3}\n",
    "# Turn the sums into a DataFrame with one row with an index of 'Total':\n",
    "sum_m3 = pd.DataFrame(row_m3, index=['Total'])\n",
    "# Now append the row:\n",
    "web_dummy_m3 = web_dummy_m3.append(sum_m3)\n",
    "# select the page columns which browse more than 10000\n",
    "web_m3_select = web_dummy_m3.loc[:,web_dummy_m3.loc['Total'] >= 10000]\n",
    "#rename page\n",
    "page_m3 = web_m3_select.columns.tolist()\n",
    "m3_list = []\n",
    "for i in range(len(web_m3_select.columns)):\n",
    "    m3_list.append('web_' + str(i+1))\n",
    "web_m3_select.columns = m3_list"
   ]
  },
  {
   "cell_type": "code",
   "execution_count": 24,
   "metadata": {},
   "outputs": [
    {
     "data": {
      "text/html": [
       "<div>\n",
       "<style scoped>\n",
       "    .dataframe tbody tr th:only-of-type {\n",
       "        vertical-align: middle;\n",
       "    }\n",
       "\n",
       "    .dataframe tbody tr th {\n",
       "        vertical-align: top;\n",
       "    }\n",
       "\n",
       "    .dataframe thead th {\n",
       "        text-align: right;\n",
       "    }\n",
       "</style>\n",
       "<table border=\"1\" class=\"dataframe\">\n",
       "  <thead>\n",
       "    <tr style=\"text-align: right;\">\n",
       "      <th></th>\n",
       "      <th>Page</th>\n",
       "      <th>No.</th>\n",
       "    </tr>\n",
       "  </thead>\n",
       "  <tbody>\n",
       "    <tr>\n",
       "      <th>0</th>\n",
       "      <td>edrn/deoxt</td>\n",
       "      <td>web_1</td>\n",
       "    </tr>\n",
       "    <tr>\n",
       "      <th>1</th>\n",
       "      <td>edrn/pgusordq</td>\n",
       "      <td>web_2</td>\n",
       "    </tr>\n",
       "    <tr>\n",
       "      <th>2</th>\n",
       "      <td>gygrt/cugfkt</td>\n",
       "      <td>web_3</td>\n",
       "    </tr>\n",
       "    <tr>\n",
       "      <th>3</th>\n",
       "      <td>gygrt/e2c</td>\n",
       "      <td>web_4</td>\n",
       "    </tr>\n",
       "    <tr>\n",
       "      <th>4</th>\n",
       "      <td>gygrt/iougz</td>\n",
       "      <td>web_5</td>\n",
       "    </tr>\n",
       "    <tr>\n",
       "      <th>5</th>\n",
       "      <td>gygrt/qodr</td>\n",
       "      <td>web_6</td>\n",
       "    </tr>\n",
       "    <tr>\n",
       "      <th>6</th>\n",
       "      <td>s/pgusordqqodr</td>\n",
       "      <td>web_7</td>\n",
       "    </tr>\n",
       "  </tbody>\n",
       "</table>\n",
       "</div>"
      ],
      "text/plain": [
       "             Page    No.\n",
       "0      edrn/deoxt  web_1\n",
       "1   edrn/pgusordq  web_2\n",
       "2    gygrt/cugfkt  web_3\n",
       "3       gygrt/e2c  web_4\n",
       "4     gygrt/iougz  web_5\n",
       "5      gygrt/qodr  web_6\n",
       "6  s/pgusordqqodr  web_7"
      ]
     },
     "execution_count": 24,
     "metadata": {},
     "output_type": "execute_result"
    }
   ],
   "source": [
    "page_pare = pd.DataFrame({'Page':page_m3, 'No.':m3_list})\n",
    "page_pare.head(7)"
   ]
  },
  {
   "cell_type": "code",
   "execution_count": 25,
   "metadata": {},
   "outputs": [],
   "source": [
    "# 合併客戶編號及網頁瀏覽, web_m3_select.drop(['Total'])\n",
    "web_train = web_m3[['CUST_NO']].join(web_m3_select.drop(['Total']))\n",
    "web_train = web_train.groupby(['CUST_NO']).sum().reset_index(level=0)\n",
    "#轉換資料型態\n",
    "# tb_m_list = tb_m.columns.tolist()[1:]\n",
    "# tb_m[tb_m_list] = tb_m[tb_m_list].apply(lambda x:x.astype(int))"
   ]
  },
  {
   "cell_type": "code",
   "execution_count": 26,
   "metadata": {},
   "outputs": [
    {
     "data": {
      "text/plain": [
       "(86867, 8)"
      ]
     },
     "execution_count": 26,
     "metadata": {},
     "output_type": "execute_result"
    }
   ],
   "source": [
    "web_train.shape"
   ]
  },
  {
   "cell_type": "markdown",
   "metadata": {},
   "source": [
    "##### **Output web CSV**"
   ]
  },
  {
   "cell_type": "code",
   "execution_count": 27,
   "metadata": {},
   "outputs": [],
   "source": [
    "#output\n",
    "web_train.to_csv('./data/web_train.csv', index = False)"
   ]
  },
  {
   "cell_type": "markdown",
   "metadata": {},
   "source": [
    "### **3.2 Y_zero_use : 處理網址資料**\n",
    "##### **篩出m3,m4, web1~web7網址瀏覽次數**"
   ]
  },
  {
   "cell_type": "code",
   "execution_count": 28,
   "metadata": {},
   "outputs": [],
   "source": [
    "#篩出0~60天(m3,m4)的瀏覽資料,擷取網址\n",
    "web_m4 = tb_web[tb_web['VISITDATE'] > 9507]\n",
    "web_m4.reset_index(drop = True, inplace = True)"
   ]
  },
  {
   "cell_type": "code",
   "execution_count": 29,
   "metadata": {},
   "outputs": [
    {
     "data": {
      "text/plain": [
       "(848104, 6)"
      ]
     },
     "execution_count": 29,
     "metadata": {},
     "output_type": "execute_result"
    }
   ],
   "source": [
    "web_m4.shape"
   ]
  },
  {
   "cell_type": "code",
   "execution_count": 30,
   "metadata": {},
   "outputs": [],
   "source": [
    "#做網址dummy，合併cust_no,計算客戶單一網址瀏覽次數\n",
    "web_dummy_m4 = pd.get_dummies(web_m4['PAGE_M'])\n",
    "#select web_1~web_7\n",
    "web_m4_select = web_dummy_m4[page_m3]\n",
    "#rename page\n",
    "page_m4 = web_m4_select.columns.tolist()\n",
    "m4_list = []\n",
    "for i in range(len(web_m4_select.columns)):\n",
    "    m4_list.append('web_' + str(i+1))\n",
    "web_m4_select.columns = m4_list"
   ]
  },
  {
   "cell_type": "code",
   "execution_count": 31,
   "metadata": {},
   "outputs": [
    {
     "data": {
      "text/html": [
       "<div>\n",
       "<style scoped>\n",
       "    .dataframe tbody tr th:only-of-type {\n",
       "        vertical-align: middle;\n",
       "    }\n",
       "\n",
       "    .dataframe tbody tr th {\n",
       "        vertical-align: top;\n",
       "    }\n",
       "\n",
       "    .dataframe thead th {\n",
       "        text-align: right;\n",
       "    }\n",
       "</style>\n",
       "<table border=\"1\" class=\"dataframe\">\n",
       "  <thead>\n",
       "    <tr style=\"text-align: right;\">\n",
       "      <th></th>\n",
       "      <th>Page</th>\n",
       "      <th>No.</th>\n",
       "    </tr>\n",
       "  </thead>\n",
       "  <tbody>\n",
       "    <tr>\n",
       "      <th>0</th>\n",
       "      <td>edrn/deoxt</td>\n",
       "      <td>web_1</td>\n",
       "    </tr>\n",
       "    <tr>\n",
       "      <th>1</th>\n",
       "      <td>edrn/pgusordq</td>\n",
       "      <td>web_2</td>\n",
       "    </tr>\n",
       "    <tr>\n",
       "      <th>2</th>\n",
       "      <td>gygrt/cugfkt</td>\n",
       "      <td>web_3</td>\n",
       "    </tr>\n",
       "    <tr>\n",
       "      <th>3</th>\n",
       "      <td>gygrt/e2c</td>\n",
       "      <td>web_4</td>\n",
       "    </tr>\n",
       "    <tr>\n",
       "      <th>4</th>\n",
       "      <td>gygrt/iougz</td>\n",
       "      <td>web_5</td>\n",
       "    </tr>\n",
       "    <tr>\n",
       "      <th>5</th>\n",
       "      <td>gygrt/qodr</td>\n",
       "      <td>web_6</td>\n",
       "    </tr>\n",
       "    <tr>\n",
       "      <th>6</th>\n",
       "      <td>s/pgusordqqodr</td>\n",
       "      <td>web_7</td>\n",
       "    </tr>\n",
       "  </tbody>\n",
       "</table>\n",
       "</div>"
      ],
      "text/plain": [
       "             Page    No.\n",
       "0      edrn/deoxt  web_1\n",
       "1   edrn/pgusordq  web_2\n",
       "2    gygrt/cugfkt  web_3\n",
       "3       gygrt/e2c  web_4\n",
       "4     gygrt/iougz  web_5\n",
       "5      gygrt/qodr  web_6\n",
       "6  s/pgusordqqodr  web_7"
      ]
     },
     "execution_count": 31,
     "metadata": {},
     "output_type": "execute_result"
    }
   ],
   "source": [
    "page_pare = pd.DataFrame({'Page':page_m4, 'No.':m4_list})\n",
    "page_pare.head(7)"
   ]
  },
  {
   "cell_type": "code",
   "execution_count": 32,
   "metadata": {},
   "outputs": [],
   "source": [
    "# 合併客戶編號及網頁瀏覽, \n",
    "web_test = web_m4[['CUST_NO']].join(web_m4_select)\n",
    "web_test = web_test.groupby(['CUST_NO']).sum().reset_index(level=0)"
   ]
  },
  {
   "cell_type": "markdown",
   "metadata": {},
   "source": [
    "##### **Output web CSV**"
   ]
  },
  {
   "cell_type": "code",
   "execution_count": 33,
   "metadata": {},
   "outputs": [],
   "source": [
    "#output\n",
    "web_test.to_csv('./data/web_test.csv', index = False)"
   ]
  }
 ],
 "metadata": {
  "kernelspec": {
   "display_name": "Python 3",
   "language": "python",
   "name": "python3"
  },
  "language_info": {
   "codemirror_mode": {
    "name": "ipython",
    "version": 3
   },
   "file_extension": ".py",
   "mimetype": "text/x-python",
   "name": "python",
   "nbconvert_exporter": "python",
   "pygments_lexer": "ipython3",
   "version": "3.7.0"
  }
 },
 "nbformat": 4,
 "nbformat_minor": 2
}
