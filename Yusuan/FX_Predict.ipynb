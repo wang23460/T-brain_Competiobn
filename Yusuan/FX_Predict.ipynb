{
 "cells": [
  {
   "cell_type": "code",
   "execution_count": 1,
   "metadata": {},
   "outputs": [],
   "source": [
    "import os\n",
    "import numpy as np\n",
    "import pandas as pd\n",
    "import matplotlib.pyplot as plt\n",
    "import warnings\n",
    "warnings.filterwarnings('ignore')\n",
    "%matplotlib inline"
   ]
  },
  {
   "cell_type": "code",
   "execution_count": 2,
   "metadata": {},
   "outputs": [
    {
     "name": "stderr",
     "output_type": "stream",
     "text": [
      "C:\\Users\\user\\Anaconda3\\lib\\site-packages\\sklearn\\cross_validation.py:41: DeprecationWarning: This module was deprecated in version 0.18 in favor of the model_selection module into which all the refactored classes and functions are moved. Also note that the interface of the new CV iterators are different from that of this module. This module will be removed in 0.20.\n",
      "  \"This module will be removed in 0.20.\", DeprecationWarning)\n"
     ]
    }
   ],
   "source": [
    "from sklearn.cross_validation import train_test_split\n",
    "from sklearn.tree import DecisionTreeClassifier\n",
    "from sklearn.metrics import accuracy_score\n",
    "from sklearn import tree"
   ]
  },
  {
   "cell_type": "code",
   "execution_count": 3,
   "metadata": {},
   "outputs": [],
   "source": [
    "from sklearn import preprocessing\n",
    "LE = preprocessing.LabelEncoder()"
   ]
  },
  {
   "cell_type": "markdown",
   "metadata": {},
   "source": [
    "### **Step 1 : 建模**\n",
    "##### M1 = 9447 ~ 9477 / M2 = 9477 ~ 9507 / M3 = 9507 ~ 9537 / M4 = 9537 ~ 9567"
   ]
  },
  {
   "cell_type": "code",
   "execution_count": 4,
   "metadata": {},
   "outputs": [],
   "source": [
    "tb_data = './data/'"
   ]
  },
  {
   "cell_type": "markdown",
   "metadata": {},
   "source": [
    "#### **1. 匯入所有商品30~60(m3)有無購買資料, 基本屬性資料, 網址資料**"
   ]
  },
  {
   "cell_type": "code",
   "execution_count": 5,
   "metadata": {},
   "outputs": [],
   "source": [
    "fx_m3 = pd.read_csv('./data/fx_m3.csv')\n",
    "cc_m3 = pd.read_csv('./data/cc_m3.csv')\n",
    "ln_m3 = pd.read_csv('./data/ln_m3.csv')\n",
    "wm_m3 = pd.read_csv('./data/wm_m3.csv')\n",
    "cif_use = pd.read_csv('./data/cif_use.csv')\n",
    "web_train = pd.read_csv('./data/web_train.csv')\n",
    "# cif_use.drop(['CUST_START_DT'], axis = 1, inplace = True)"
   ]
  },
  {
   "cell_type": "code",
   "execution_count": 6,
   "metadata": {},
   "outputs": [
    {
     "data": {
      "text/plain": [
       "(187679, 7)"
      ]
     },
     "execution_count": 6,
     "metadata": {},
     "output_type": "execute_result"
    }
   ],
   "source": [
    "cif_use.loc[~cif_use['GENDER_CODE'].isnull(), :].shape"
   ]
  },
  {
   "cell_type": "markdown",
   "metadata": {},
   "source": [
    "#### **2. 處理外匯資料**"
   ]
  },
  {
   "cell_type": "code",
   "execution_count": 7,
   "metadata": {},
   "outputs": [],
   "source": [
    "FX = os.path.join(tb_data, 'TBN_FX_TXN.csv')\n",
    "tb_fx = pd.read_csv(FX)\n",
    "tb_fx.rename(columns={'TXN_DT':'FX_DT'}, inplace = True)\n",
    "# tb_fx.sort_index(inplace = True)"
   ]
  },
  {
   "cell_type": "code",
   "execution_count": 8,
   "metadata": {},
   "outputs": [],
   "source": [
    "# 計算30天以上,120天以內購買次數(m1~m3, 9447~9537)\n",
    "fx_90 = tb_fx.loc[tb_fx['FX_DT'] <= 9537,['CUST_NO', 'FX_DT']]\n",
    "fx_90.reset_index(drop=True, inplace=True)\n",
    "fx_90['FX_DT'] = 1\n",
    "fx_90 = fx_90.groupby('CUST_NO').sum().reset_index(level=0)\n",
    "fx_90.columns = ['CUST_NO','FX_count']"
   ]
  },
  {
   "cell_type": "code",
   "execution_count": 9,
   "metadata": {},
   "outputs": [],
   "source": [
    "# 計算30天以上, 120天以內購買金額總數\n",
    "fx_90_amt = tb_fx.loc[tb_fx['FX_DT'] <= 9537,['CUST_NO', 'FX_TXN_AMT']]\n",
    "fx_90_amt.reset_index(drop=True, inplace=True)\n",
    "fx_90_amt = fx_90_amt.groupby('CUST_NO').sum().reset_index(level=0)\n",
    "fx_90_amt.columns = ['CUST_NO','AMT_SUM']\n",
    "#標記購買金額區間\n",
    "fx_90_amt['AMT_RANGE'] = pd.qcut(fx_90_amt['AMT_SUM'], 4) \n",
    "#併入fx_90\n",
    "fx_90['AMT_RANGE'] = fx_90_amt['AMT_RANGE'] "
   ]
  },
  {
   "cell_type": "code",
   "execution_count": 11,
   "metadata": {},
   "outputs": [],
   "source": [
    "# 篩出0~30天(m4)有無購買(Y)\n",
    "tb_fx['FX_Y'] = [1 if i >= 9537 else 0 for i in tb_fx['FX_DT']]\n",
    "fx_y = tb_fx.loc[tb_fx['FX_Y'] == 1,['CUST_NO', 'FX_Y']].drop_duplicates(subset = 'CUST_NO')"
   ]
  },
  {
   "cell_type": "code",
   "execution_count": 12,
   "metadata": {},
   "outputs": [],
   "source": [
    "# 合併fx所需資料\n",
    "fx_train = fx_90.merge(fx_y, on = 'CUST_NO', how = 'left')\n",
    "fx_train['FX_Y'] = fx_train['FX_Y'].fillna(0)\n",
    "fx_train['AMT_RANGE'] = LE.fit_transform(fx_train['AMT_RANGE'])+1"
   ]
  },
  {
   "cell_type": "code",
   "execution_count": 13,
   "metadata": {},
   "outputs": [
    {
     "data": {
      "text/html": [
       "<div>\n",
       "<style scoped>\n",
       "    .dataframe tbody tr th:only-of-type {\n",
       "        vertical-align: middle;\n",
       "    }\n",
       "\n",
       "    .dataframe tbody tr th {\n",
       "        vertical-align: top;\n",
       "    }\n",
       "\n",
       "    .dataframe thead th {\n",
       "        text-align: right;\n",
       "    }\n",
       "</style>\n",
       "<table border=\"1\" class=\"dataframe\">\n",
       "  <thead>\n",
       "    <tr style=\"text-align: right;\">\n",
       "      <th></th>\n",
       "      <th>CUST_NO</th>\n",
       "      <th>FX_count</th>\n",
       "      <th>AMT_RANGE</th>\n",
       "      <th>FX_Y</th>\n",
       "    </tr>\n",
       "  </thead>\n",
       "  <tbody>\n",
       "    <tr>\n",
       "      <th>0</th>\n",
       "      <td>--0PHCW9D_3SAAFS</td>\n",
       "      <td>1</td>\n",
       "      <td>2</td>\n",
       "      <td>1.0</td>\n",
       "    </tr>\n",
       "    <tr>\n",
       "      <th>1</th>\n",
       "      <td>--1YNJZSSOXDF6UU</td>\n",
       "      <td>4</td>\n",
       "      <td>4</td>\n",
       "      <td>0.0</td>\n",
       "    </tr>\n",
       "    <tr>\n",
       "      <th>2</th>\n",
       "      <td>--3NF5SUEEEAWOPI</td>\n",
       "      <td>3</td>\n",
       "      <td>4</td>\n",
       "      <td>0.0</td>\n",
       "    </tr>\n",
       "    <tr>\n",
       "      <th>3</th>\n",
       "      <td>--8BVNAAVAUSW6X8</td>\n",
       "      <td>1</td>\n",
       "      <td>1</td>\n",
       "      <td>0.0</td>\n",
       "    </tr>\n",
       "    <tr>\n",
       "      <th>4</th>\n",
       "      <td>--BKCXWIQJK5R8_C</td>\n",
       "      <td>1</td>\n",
       "      <td>1</td>\n",
       "      <td>0.0</td>\n",
       "    </tr>\n",
       "  </tbody>\n",
       "</table>\n",
       "</div>"
      ],
      "text/plain": [
       "            CUST_NO  FX_count  AMT_RANGE  FX_Y\n",
       "0  --0PHCW9D_3SAAFS         1          2   1.0\n",
       "1  --1YNJZSSOXDF6UU         4          4   0.0\n",
       "2  --3NF5SUEEEAWOPI         3          4   0.0\n",
       "3  --8BVNAAVAUSW6X8         1          1   0.0\n",
       "4  --BKCXWIQJK5R8_C         1          1   0.0"
      ]
     },
     "execution_count": 13,
     "metadata": {},
     "output_type": "execute_result"
    }
   ],
   "source": [
    "fx_train.head()"
   ]
  },
  {
   "cell_type": "markdown",
   "metadata": {},
   "source": [
    "#### **3. 以基本屬性為底,合併網址、外匯、其他商品m3有無購買之資料**"
   ]
  },
  {
   "cell_type": "code",
   "execution_count": 14,
   "metadata": {},
   "outputs": [],
   "source": [
    "fx_forecast = cif_use.merge(web_train, on = 'CUST_NO', how = 'left').merge(fx_train, on = 'CUST_NO', how = 'left').merge(fx_m3, on = 'CUST_NO', how = 'left')\\\n",
    ".merge(cc_m3, on = 'CUST_NO', how = 'left').merge(ln_m3, on = 'CUST_NO', how = 'left').merge(wm_m3, on = 'CUST_NO', how = 'left')"
   ]
  },
  {
   "cell_type": "code",
   "execution_count": 15,
   "metadata": {},
   "outputs": [
    {
     "data": {
      "text/plain": [
       "(187679, 21)"
      ]
     },
     "execution_count": 15,
     "metadata": {},
     "output_type": "execute_result"
    }
   ],
   "source": [
    "fx_forecast.loc[~fx_forecast['GENDER_CODE'].isnull(),:].shape"
   ]
  },
  {
   "cell_type": "code",
   "execution_count": 18,
   "metadata": {},
   "outputs": [
    {
     "data": {
      "text/plain": [
       "CUST_NO              False\n",
       "AGE                  False\n",
       "CHILDREN_CNT         False\n",
       "EDU_CODE             False\n",
       "GENDER_CODE          False\n",
       "INCOME_RANGE_CODE    False\n",
       "WORK_MTHS            False\n",
       "web_1                False\n",
       "web_2                False\n",
       "web_3                False\n",
       "web_4                False\n",
       "web_5                False\n",
       "web_6                False\n",
       "web_7                False\n",
       "FX_count             False\n",
       "AMT_RANGE            False\n",
       "FX_Y                 False\n",
       "FX_30                False\n",
       "CC_30                False\n",
       "LN_30                False\n",
       "WM_30                False\n",
       "dtype: bool"
      ]
     },
     "execution_count": 18,
     "metadata": {},
     "output_type": "execute_result"
    }
   ],
   "source": [
    "fx_forecast.isnull().any()"
   ]
  },
  {
   "cell_type": "code",
   "execution_count": 17,
   "metadata": {},
   "outputs": [],
   "source": [
    "fx_forecast_fill = [i for i in fx_forecast.columns if i !='CUST_NO' and i !='GENDER_CODE'] \n",
    "fx_forecast[fx_forecast_fill] = fx_forecast[fx_forecast_fill].fillna(0)\n",
    "# fx_forecast['AMT_RANGE'] = fx_forecast['AMT_RANGE'].cat.add_categories('0')\n",
    "# fx_forecast['AMT_RANGE'].fillna(0, inplace =True)\n",
    "# fx_forecast['GENDER_CODE'] = fx_forecast['GENDER_CODE'].fillna(2)\n",
    "fx_forecast_list = [i for i in fx_forecast.columns if i !='CUST_NO'] \n",
    "fx_forecast[fx_forecast_list] = fx_forecast[fx_forecast_list].apply(lambda x:x.astype(int))"
   ]
  },
  {
   "cell_type": "markdown",
   "metadata": {},
   "source": [
    "#### **4. 決策樹**"
   ]
  },
  {
   "cell_type": "code",
   "execution_count": 19,
   "metadata": {},
   "outputs": [],
   "source": [
    "X = fx_forecast.drop(['CUST_NO', 'FX_Y'], axis = 1)\n",
    "Y = fx_forecast['FX_Y']\n",
    "X_train, X_test, Y_train, Y_test = train_test_split(X, Y, test_size=0.30,random_state=0)"
   ]
  },
  {
   "cell_type": "code",
   "execution_count": 20,
   "metadata": {},
   "outputs": [
    {
     "data": {
      "text/plain": [
       "0    176957\n",
       "1     10722\n",
       "Name: FX_Y, dtype: int64"
      ]
     },
     "execution_count": 20,
     "metadata": {},
     "output_type": "execute_result"
    }
   ],
   "source": [
    "Y.value_counts()"
   ]
  },
  {
   "cell_type": "code",
   "execution_count": 21,
   "metadata": {},
   "outputs": [
    {
     "data": {
      "text/plain": [
       "dtype('int32')"
      ]
     },
     "execution_count": 21,
     "metadata": {},
     "output_type": "execute_result"
    }
   ],
   "source": [
    "Y_train.dtypes"
   ]
  },
  {
   "cell_type": "code",
   "execution_count": 22,
   "metadata": {},
   "outputs": [
    {
     "name": "stdout",
     "output_type": "stream",
     "text": [
      "X_train : (131375, 19)\n",
      "Y_train (131375,)\n",
      "X_test : (56304, 19)\n",
      "Y_test (56304,)\n"
     ]
    }
   ],
   "source": [
    "print('X_train :',X_train.shape)\n",
    "print('Y_train', Y_train.shape)\n",
    "print('X_test :', X_test.shape)\n",
    "print('Y_test', Y_test.shape)"
   ]
  },
  {
   "cell_type": "code",
   "execution_count": 23,
   "metadata": {},
   "outputs": [
    {
     "data": {
      "text/plain": [
       "DecisionTreeClassifier(class_weight=None, criterion='entropy', max_depth=3,\n",
       "            max_features=None, max_leaf_nodes=None,\n",
       "            min_impurity_decrease=0.0, min_impurity_split=None,\n",
       "            min_samples_leaf=5, min_samples_split=2,\n",
       "            min_weight_fraction_leaf=0.0, presort=False, random_state=None,\n",
       "            splitter='best')"
      ]
     },
     "execution_count": 23,
     "metadata": {},
     "output_type": "execute_result"
    }
   ],
   "source": [
    "fx_tree = DecisionTreeClassifier(criterion = \"entropy\",\n",
    "                               max_depth=3, min_samples_leaf=5)\n",
    "fx_tree.fit(X_train, Y_train)"
   ]
  },
  {
   "cell_type": "code",
   "execution_count": 24,
   "metadata": {},
   "outputs": [],
   "source": [
    "fx_predict = fx_tree.predict(X_test)"
   ]
  },
  {
   "cell_type": "code",
   "execution_count": 25,
   "metadata": {},
   "outputs": [
    {
     "name": "stdout",
     "output_type": "stream",
     "text": [
      "Accuracy is  95.00035521454959\n"
     ]
    }
   ],
   "source": [
    "# print(classification_report(Y_test,fx_predict))\n",
    "print(\"Accuracy is \", accuracy_score(Y_test, fx_predict)*100)\n",
    "# print(confusion_matrix(y_test,predictions))"
   ]
  },
  {
   "cell_type": "markdown",
   "metadata": {},
   "source": [
    "##### **ROC**"
   ]
  },
  {
   "cell_type": "code",
   "execution_count": 26,
   "metadata": {},
   "outputs": [],
   "source": [
    "from sklearn.metrics import roc_curve, auc"
   ]
  },
  {
   "cell_type": "code",
   "execution_count": 27,
   "metadata": {},
   "outputs": [
    {
     "data": {
      "text/plain": [
       "<Figure size 432x288 with 0 Axes>"
      ]
     },
     "metadata": {},
     "output_type": "display_data"
    },
    {
     "data": {
      "image/png": "[encoded data removed]",
      "text/plain": [
       "<Figure size 720x720 with 1 Axes>"
      ]
     },
     "metadata": {
      "needs_background": "light"
     },
     "output_type": "display_data"
    }
   ],
   "source": [
    "# Compute ROC curve and ROC area for each class\n",
    "fpr,tpr,threshold = roc_curve(Y_test, fx_predict) ###計算True Postive 和 False Positive False Postive為橫軸，True Postive為縱軸\n",
    "roc_auc = auc(fpr,tpr) ###計算AUC\n",
    " \n",
    "plt.figure()\n",
    "lw = 2\n",
    "plt.figure(figsize=(10,10))\n",
    "plt.plot(fpr, tpr, color='darkorange',\n",
    "         lw=lw, label='ROC curve (area = %0.2f)' % roc_auc) ###False Postive為橫軸，True Postive為縱軸\n",
    "plt.plot([0, 1], [0, 1], color='navy', lw=lw, linestyle='--')\n",
    "plt.xlim([0.0, 1.0])\n",
    "plt.ylim([0.0, 1.05])\n",
    "plt.xlabel('False Positive Rate')\n",
    "plt.ylabel('True Positive Rate')\n",
    "plt.title('ROC of Decision Tree')\n",
    "plt.legend(loc=\"lower right\")\n",
    "plt.show()"
   ]
  },
  {
   "cell_type": "markdown",
   "metadata": {},
   "source": [
    "#### **5. 隨機森林**"
   ]
  },
  {
   "cell_type": "code",
   "execution_count": 28,
   "metadata": {},
   "outputs": [
    {
     "name": "stderr",
     "output_type": "stream",
     "text": [
      "C:\\Users\\user\\Anaconda3\\lib\\site-packages\\sklearn\\ensemble\\weight_boosting.py:29: DeprecationWarning: numpy.core.umath_tests is an internal NumPy module and should not be imported. It will be removed in a future NumPy release.\n",
      "  from numpy.core.umath_tests import inner1d\n"
     ]
    }
   ],
   "source": [
    "from sklearn import cross_validation, ensemble, preprocessing, metrics"
   ]
  },
  {
   "cell_type": "code",
   "execution_count": 29,
   "metadata": {},
   "outputs": [
    {
     "data": {
      "text/plain": [
       "RandomForestClassifier(bootstrap=True, class_weight=None, criterion='gini',\n",
       "            max_depth=None, max_features='auto', max_leaf_nodes=None,\n",
       "            min_impurity_decrease=0.0, min_impurity_split=None,\n",
       "            min_samples_leaf=1, min_samples_split=2,\n",
       "            min_weight_fraction_leaf=0.0, n_estimators=100, n_jobs=1,\n",
       "            oob_score=False, random_state=None, verbose=0,\n",
       "            warm_start=False)"
      ]
     },
     "execution_count": 29,
     "metadata": {},
     "output_type": "execute_result"
    }
   ],
   "source": [
    "fx_forest = ensemble.RandomForestClassifier(n_estimators = 100)\n",
    "fx_forest.fit(X_train, Y_train)"
   ]
  },
  {
   "cell_type": "code",
   "execution_count": 30,
   "metadata": {},
   "outputs": [],
   "source": [
    "fx_f_predict = fx_forest.predict(X_test)"
   ]
  },
  {
   "cell_type": "code",
   "execution_count": 31,
   "metadata": {},
   "outputs": [
    {
     "name": "stdout",
     "output_type": "stream",
     "text": [
      "Accuracy is  94.45865302642797\n"
     ]
    }
   ],
   "source": [
    "print(\"Accuracy is \", accuracy_score(Y_test, fx_f_predict)*100)"
   ]
  },
  {
   "cell_type": "code",
   "execution_count": 32,
   "metadata": {},
   "outputs": [
    {
     "data": {
      "text/plain": [
       "<Figure size 432x288 with 0 Axes>"
      ]
     },
     "metadata": {},
     "output_type": "display_data"
    },
    {
     "data": {
      "image/png": "[encoded data removed]",
      "text/plain": [
       "<Figure size 720x720 with 1 Axes>"
      ]
     },
     "metadata": {
      "needs_background": "light"
     },
     "output_type": "display_data"
    }
   ],
   "source": [
    "fpr,tpr,threshold = roc_curve(Y_test, fx_f_predict) ###計算True Postive 和 False Positive \n",
    "roc_auc = auc(fpr,tpr) ###計算AUC\n",
    " \n",
    "plt.figure()\n",
    "lw = 2\n",
    "plt.figure(figsize=(10,10))\n",
    "plt.plot(fpr, tpr, color='darkorange',\n",
    "         lw=lw, label='ROC curve (area = %0.2f)' % roc_auc) ###False Postive為橫軸，True Postive為縱軸\n",
    "plt.plot([0, 1], [0, 1], color='navy', lw=lw, linestyle='--')\n",
    "plt.xlim([0.0, 1.0])\n",
    "plt.ylim([0.0, 1.05])\n",
    "plt.xlabel('False Positive Rate')\n",
    "plt.ylabel('True Positive Rate')\n",
    "plt.title('ROC of Random Forest')\n",
    "plt.legend(loc=\"lower right\")\n",
    "plt.show()"
   ]
  },
  {
   "cell_type": "markdown",
   "metadata": {},
   "source": [
    "#### **6. XGBoost**"
   ]
  },
  {
   "cell_type": "code",
   "execution_count": 33,
   "metadata": {},
   "outputs": [],
   "source": [
    "from xgboost import XGBClassifier"
   ]
  },
  {
   "cell_type": "code",
   "execution_count": 34,
   "metadata": {},
   "outputs": [],
   "source": [
    "xgb = XGBClassifier()"
   ]
  },
  {
   "cell_type": "code",
   "execution_count": 35,
   "metadata": {},
   "outputs": [
    {
     "data": {
      "text/plain": [
       "XGBClassifier(base_score=0.5, booster='gbtree', colsample_bylevel=1,\n",
       "       colsample_bytree=1, gamma=0, learning_rate=0.1, max_delta_step=0,\n",
       "       max_depth=3, min_child_weight=1, missing=None, n_estimators=100,\n",
       "       n_jobs=1, nthread=None, objective='binary:logistic', random_state=0,\n",
       "       reg_alpha=0, reg_lambda=1, scale_pos_weight=1, seed=None,\n",
       "       silent=True, subsample=1)"
      ]
     },
     "execution_count": 35,
     "metadata": {},
     "output_type": "execute_result"
    }
   ],
   "source": [
    "xgb.fit(X_train, Y_train)"
   ]
  },
  {
   "cell_type": "code",
   "execution_count": 36,
   "metadata": {},
   "outputs": [
    {
     "name": "stderr",
     "output_type": "stream",
     "text": [
      "C:\\Users\\user\\Anaconda3\\lib\\site-packages\\sklearn\\preprocessing\\label.py:151: DeprecationWarning: The truth value of an empty array is ambiguous. Returning False, but in future this will result in an error. Use `array.size > 0` to check that an array is not empty.\n",
      "  if diff:\n"
     ]
    }
   ],
   "source": [
    "fx_xgb_predict = xgb.predict(X_test)"
   ]
  },
  {
   "cell_type": "code",
   "execution_count": 37,
   "metadata": {},
   "outputs": [
    {
     "name": "stdout",
     "output_type": "stream",
     "text": [
      "Accuracy is  94.9914748508099\n"
     ]
    }
   ],
   "source": [
    "print(\"Accuracy is \", accuracy_score(Y_test, fx_xgb_predict)*100)"
   ]
  },
  {
   "cell_type": "code",
   "execution_count": 38,
   "metadata": {},
   "outputs": [
    {
     "data": {
      "text/plain": [
       "<Figure size 432x288 with 0 Axes>"
      ]
     },
     "metadata": {},
     "output_type": "display_data"
    },
    {
     "data": {
      "image/png": "[encoded data removed]",
      "text/plain": [
       "<Figure size 720x720 with 1 Axes>"
      ]
     },
     "metadata": {
      "needs_background": "light"
     },
     "output_type": "display_data"
    }
   ],
   "source": [
    "fpr,tpr,threshold = roc_curve(Y_test, fx_xgb_predict) ###計算True Postive 和 False Positive\n",
    "roc_auc = auc(fpr,tpr) ###計算AUC\n",
    "\n",
    "plt.figure()\n",
    "lw = 2\n",
    "plt.figure(figsize=(10,10))\n",
    "plt.plot(fpr, tpr, color='darkorange',\n",
    "         lw=lw, label='ROC curve (area = %0.2f)' % roc_auc) ###False Postive為橫軸，True Postive為縱軸\n",
    "plt.plot([0, 1], [0, 1], color='navy', lw=lw, linestyle='--')\n",
    "plt.xlim([0.0, 1.0])\n",
    "plt.ylim([0.0, 1.05])\n",
    "plt.xlabel('False Positive Rate')\n",
    "plt.ylabel('True Positive Rate')\n",
    "plt.title('ROC of XGBoost')\n",
    "plt.legend(loc=\"lower right\")\n",
    "plt.show()"
   ]
  },
  {
   "cell_type": "markdown",
   "metadata": {},
   "source": [
    "### **Step 2 : Load 預測資料集**"
   ]
  },
  {
   "cell_type": "code",
   "execution_count": 39,
   "metadata": {},
   "outputs": [],
   "source": [
    "Y_zero  = pd.read_csv('./data/TBN_Y_ZERO.csv')\n",
    "# Y_zero  = pd.read_csv('./data/TBN_Y_ZERO.csv', usecols = ['CUST_NO', 'FX_IND'])"
   ]
  },
  {
   "cell_type": "markdown",
   "metadata": {},
   "source": [
    "#### **1. 匯入所有商品0~30(m4)有無購買,網址資料(m3,m4)**"
   ]
  },
  {
   "cell_type": "code",
   "execution_count": 40,
   "metadata": {},
   "outputs": [],
   "source": [
    "fx_m4 = pd.read_csv('./data/fx_m4.csv')\n",
    "cc_m4 = pd.read_csv('./data/cc_m4.csv')\n",
    "ln_m4 = pd.read_csv('./data/ln_m4.csv')\n",
    "wm_m4 = pd.read_csv('./data/wm_m4.csv')\n",
    "web_test = pd.read_csv('./data/web_test.csv')"
   ]
  },
  {
   "cell_type": "code",
   "execution_count": 41,
   "metadata": {},
   "outputs": [
    {
     "data": {
      "text/plain": [
       "(106655, 8)"
      ]
     },
     "execution_count": 41,
     "metadata": {},
     "output_type": "execute_result"
    }
   ],
   "source": [
    "web_test.shape"
   ]
  },
  {
   "cell_type": "markdown",
   "metadata": {},
   "source": [
    "#### **2. 處理外匯資料**"
   ]
  },
  {
   "cell_type": "code",
   "execution_count": 44,
   "metadata": {},
   "outputs": [],
   "source": [
    "# 計算0~90天以內購買次數(m2~m4, 9477~9567)\n",
    "fx_24 = tb_fx.loc[tb_fx['FX_DT'] > 9477,['CUST_NO', 'FX_DT']]\n",
    "fx_24.reset_index(drop=True, inplace=True)\n",
    "fx_24['FX_DT'] = 1\n",
    "fx_24 = fx_24.groupby('CUST_NO').sum().reset_index(level=0)\n",
    "fx_24.columns = ['CUST_NO','FX_count']"
   ]
  },
  {
   "cell_type": "code",
   "execution_count": 45,
   "metadata": {},
   "outputs": [],
   "source": [
    "# 計算0~90天以內購買金額總數\n",
    "fx_24_amt = tb_fx.loc[tb_fx['FX_DT'] > 9477,['CUST_NO', 'FX_TXN_AMT']]\n",
    "fx_24_amt.reset_index(drop=True, inplace=True)\n",
    "fx_24_amt = fx_24_amt.groupby('CUST_NO').sum().reset_index(level=0)\n",
    "fx_24_amt.columns = ['CUST_NO','AMT_SUM']\n",
    "#標記購買金額區間\n",
    "fx_24_amt['AMT_RANGE'] = pd.qcut(fx_24_amt['AMT_SUM'], 4)\n",
    "fx_24_amt['AMT_RANGE'] = LE.fit_transform(fx_24_amt['AMT_RANGE'])+1\n",
    "#併入fx_24\n",
    "fx_24['AMT_RANGE'] = fx_24_amt['AMT_RANGE']"
   ]
  },
  {
   "cell_type": "code",
   "execution_count": 47,
   "metadata": {},
   "outputs": [
    {
     "data": {
      "text/plain": [
       "CUST_NO      False\n",
       "FX_count     False\n",
       "AMT_RANGE    False\n",
       "dtype: bool"
      ]
     },
     "execution_count": 47,
     "metadata": {},
     "output_type": "execute_result"
    }
   ],
   "source": [
    "# 合併fx所需資料\n",
    "fx_test = fx_24\n",
    "fx_test.isnull().any()"
   ]
  },
  {
   "cell_type": "markdown",
   "metadata": {},
   "source": [
    "#### **3. 以Y為底，合併基本屬性,網址、外匯、其他商品m3有無購買之資料**"
   ]
  },
  {
   "cell_type": "code",
   "execution_count": 48,
   "metadata": {},
   "outputs": [],
   "source": [
    "Y_fx = Y_zero[['CUST_NO']].merge(cif_use, on = 'CUST_NO', how = 'left').merge(web_test, on = 'CUST_NO', how = 'left').merge(fx_test, on = 'CUST_NO', how = 'left')\\\n",
    ".merge(fx_m4, on = 'CUST_NO', how = 'left').merge(cc_m4, on = 'CUST_NO', how = 'left').merge(ln_m4, on = 'CUST_NO', how = 'left').merge(wm_m4, on = 'CUST_NO', how = 'left')"
   ]
  },
  {
   "cell_type": "code",
   "execution_count": 49,
   "metadata": {},
   "outputs": [
    {
     "data": {
      "text/plain": [
       "(29854, 20)"
      ]
     },
     "execution_count": 49,
     "metadata": {},
     "output_type": "execute_result"
    }
   ],
   "source": [
    "Y_fx.loc[~Y_fx['AGE'].isnull(),:].shape"
   ]
  },
  {
   "cell_type": "code",
   "execution_count": 54,
   "metadata": {},
   "outputs": [
    {
     "data": {
      "text/plain": [
       "CUST_NO              False\n",
       "AGE                  False\n",
       "CHILDREN_CNT         False\n",
       "EDU_CODE             False\n",
       "GENDER_CODE          False\n",
       "INCOME_RANGE_CODE    False\n",
       "WORK_MTHS            False\n",
       "web_1                False\n",
       "web_2                False\n",
       "web_3                False\n",
       "web_4                False\n",
       "web_5                False\n",
       "web_6                False\n",
       "web_7                False\n",
       "FX_count             False\n",
       "AMT_RANGE            False\n",
       "FX_30                False\n",
       "CC_30                False\n",
       "LN_30                False\n",
       "WM_30                False\n",
       "dtype: bool"
      ]
     },
     "execution_count": 54,
     "metadata": {},
     "output_type": "execute_result"
    }
   ],
   "source": [
    "Y_fx.isnull().any()\n",
    "# Y_fx.info()"
   ]
  },
  {
   "cell_type": "markdown",
   "metadata": {},
   "source": [
    "##### **3.1 處理基本屬性資料**"
   ]
  },
  {
   "cell_type": "code",
   "execution_count": 51,
   "metadata": {},
   "outputs": [],
   "source": [
    "m_edu = round(Y_fx.loc[:,'EDU_CODE'].mean())\n",
    "m_income = round(Y_fx.loc[:, 'INCOME_RANGE_CODE'].mean())\n",
    "m_work = round(Y_fx.loc[:, 'WORK_MTHS'].mean())\n",
    "m_age = round(Y_fx.loc[:, 'AGE'].mean())\n",
    "name_ = Y_fx.columns.tolist()[1:7]\n",
    "mean_ = [m_age, 0, m_edu, 2, m_income, m_work] \n",
    "for i,j in zip(name_, mean_):\n",
    "    Y_fx.loc[:,i] = Y_fx.loc[:, i].fillna(j)"
   ]
  },
  {
   "cell_type": "markdown",
   "metadata": {},
   "source": [
    "##### 3.2 **處理剩餘na**"
   ]
  },
  {
   "cell_type": "code",
   "execution_count": 57,
   "metadata": {},
   "outputs": [],
   "source": [
    "# fx_forecast['AMT_RANGE'] = fx_forecast['AMT_RANGE'].cat.add_categories('0')\n",
    "# fx_forecast['AMT_RANGE'].fillna('0', inplace =True)\n",
    "# # fx_forecast['GENDER_CODE'] = fx_forecast['GENDER_CODE'].fillna(2)\n",
    "# fx_forecast_list = [i for i in fx_forecast.columns if i !='CUST_NO' and i != 'AMT_RANGE'] \n",
    "# fx_forecast[fx_forecast_list] = fx_forecast[fx_forecast_list].apply(lambda x:x.astype(int))"
   ]
  },
  {
   "cell_type": "code",
   "execution_count": 58,
   "metadata": {},
   "outputs": [],
   "source": [
    "# Y_fx['AMT_RANGE'] = Y_fx['AMT_RANGE'].cat.add_categories('0')\n",
    "# Y_fx['AMT_RANGE'].fillna('0', inplace = True)"
   ]
  },
  {
   "cell_type": "code",
   "execution_count": 53,
   "metadata": {},
   "outputs": [],
   "source": [
    "# Y_fx = Y_fx.fillna(0)\n",
    "Y_fx_list = [i for i in Y_fx.columns if i !='CUST_NO']\n",
    "Y_fx[Y_fx_list] = Y_fx[Y_fx_list].fillna(0)\n",
    "Y_fx[Y_fx_list] = Y_fx[Y_fx_list].apply(lambda x:x.astype(int))"
   ]
  },
  {
   "cell_type": "markdown",
   "metadata": {},
   "source": [
    "#### **4. 決策樹**"
   ]
  },
  {
   "cell_type": "code",
   "execution_count": 55,
   "metadata": {},
   "outputs": [],
   "source": [
    "X_train = fx_forecast.drop(['CUST_NO', 'FX_Y'], axis = 1)\n",
    "Y_train = fx_forecast['FX_Y']\n",
    "X_test = Y_fx.drop(['CUST_NO'], axis = 1)"
   ]
  },
  {
   "cell_type": "code",
   "execution_count": 62,
   "metadata": {},
   "outputs": [
    {
     "name": "stdout",
     "output_type": "stream",
     "text": [
      "X_train : (187679, 19)\n",
      "Y_train (187679,)\n",
      "X_test : (30000, 19)\n"
     ]
    }
   ],
   "source": [
    "print('X_train :',X_train.shape)\n",
    "print('Y_train', Y_train.shape)\n",
    "print('X_test :', X_test.shape)\n",
    "# print('Y_test', Y_test.shape)"
   ]
  },
  {
   "cell_type": "code",
   "execution_count": 63,
   "metadata": {},
   "outputs": [
    {
     "data": {
      "text/plain": [
       "DecisionTreeClassifier(class_weight=None, criterion='entropy', max_depth=3,\n",
       "            max_features=None, max_leaf_nodes=None,\n",
       "            min_impurity_decrease=0.0, min_impurity_split=None,\n",
       "            min_samples_leaf=5, min_samples_split=2,\n",
       "            min_weight_fraction_leaf=0.0, presort=False, random_state=None,\n",
       "            splitter='best')"
      ]
     },
     "execution_count": 63,
     "metadata": {},
     "output_type": "execute_result"
    }
   ],
   "source": [
    "fx_tree = DecisionTreeClassifier(criterion = \"entropy\",\n",
    "                               max_depth=3, min_samples_leaf=5)\n",
    "fx_tree.fit(X_train, Y_train)"
   ]
  },
  {
   "cell_type": "code",
   "execution_count": 64,
   "metadata": {},
   "outputs": [],
   "source": [
    "fx_predict = fx_tree.predict(X_test).tolist()"
   ]
  },
  {
   "cell_type": "code",
   "execution_count": 81,
   "metadata": {},
   "outputs": [
    {
     "data": {
      "text/plain": [
       "313"
      ]
     },
     "execution_count": 81,
     "metadata": {},
     "output_type": "execute_result"
    }
   ],
   "source": [
    "fx_predict.count(1)"
   ]
  },
  {
   "cell_type": "code",
   "execution_count": 65,
   "metadata": {},
   "outputs": [],
   "source": [
    "Y_zero['FX_IND'] = fx_predict"
   ]
  },
  {
   "cell_type": "code",
   "execution_count": 95,
   "metadata": {},
   "outputs": [],
   "source": [
    "# Y_zero[Y_zero['FX_IND'] == 1]"
   ]
  },
  {
   "cell_type": "code",
   "execution_count": 66,
   "metadata": {},
   "outputs": [],
   "source": [
    "TBN_Y_FX = Y_zero.loc[:,['CUST_NO', 'FX_IND']]\n",
    "TBN_Y_FX.head()\n",
    "TBN_Y_FX.to_csv('./data/TBN_Y_FX_30.csv', index = False)"
   ]
  },
  {
   "cell_type": "markdown",
   "metadata": {},
   "source": [
    "##### **Random Forest**"
   ]
  },
  {
   "cell_type": "code",
   "execution_count": 67,
   "metadata": {},
   "outputs": [
    {
     "data": {
      "text/plain": [
       "RandomForestClassifier(bootstrap=True, class_weight=None, criterion='gini',\n",
       "            max_depth=None, max_features='auto', max_leaf_nodes=None,\n",
       "            min_impurity_decrease=0.0, min_impurity_split=None,\n",
       "            min_samples_leaf=1, min_samples_split=2,\n",
       "            min_weight_fraction_leaf=0.0, n_estimators=100, n_jobs=1,\n",
       "            oob_score=False, random_state=None, verbose=0,\n",
       "            warm_start=False)"
      ]
     },
     "execution_count": 67,
     "metadata": {},
     "output_type": "execute_result"
    }
   ],
   "source": [
    "fx_forest = ensemble.RandomForestClassifier(n_estimators = 100)\n",
    "fx_forest.fit(X_train, Y_train)"
   ]
  },
  {
   "cell_type": "code",
   "execution_count": 68,
   "metadata": {},
   "outputs": [],
   "source": [
    "fx_f_predict = fx_forest.predict(X_test)"
   ]
  },
  {
   "cell_type": "code",
   "execution_count": 80,
   "metadata": {},
   "outputs": [
    {
     "data": {
      "text/plain": [
       "845"
      ]
     },
     "execution_count": 80,
     "metadata": {},
     "output_type": "execute_result"
    }
   ],
   "source": [
    "fx_f_predict.tolist().count(1)"
   ]
  },
  {
   "cell_type": "code",
   "execution_count": 69,
   "metadata": {},
   "outputs": [],
   "source": [
    "Y_zero['FX_IND'] = fx_f_predict"
   ]
  },
  {
   "cell_type": "code",
   "execution_count": 70,
   "metadata": {},
   "outputs": [],
   "source": [
    "TBN_Y_FX = Y_zero.loc[:,['CUST_NO', 'FX_IND']]\n",
    "TBN_Y_FX.head()\n",
    "TBN_Y_FX.to_csv('./data/TBN_Y_FX_Forest_30.csv', index = False)"
   ]
  },
  {
   "cell_type": "markdown",
   "metadata": {},
   "source": [
    "##### **XGBoost**"
   ]
  },
  {
   "cell_type": "code",
   "execution_count": 71,
   "metadata": {},
   "outputs": [],
   "source": [
    "xgb = XGBClassifier()"
   ]
  },
  {
   "cell_type": "code",
   "execution_count": 72,
   "metadata": {},
   "outputs": [
    {
     "data": {
      "text/plain": [
       "XGBClassifier(base_score=0.5, booster='gbtree', colsample_bylevel=1,\n",
       "       colsample_bytree=1, gamma=0, learning_rate=0.1, max_delta_step=0,\n",
       "       max_depth=3, min_child_weight=1, missing=None, n_estimators=100,\n",
       "       n_jobs=1, nthread=None, objective='binary:logistic', random_state=0,\n",
       "       reg_alpha=0, reg_lambda=1, scale_pos_weight=1, seed=None,\n",
       "       silent=True, subsample=1)"
      ]
     },
     "execution_count": 72,
     "metadata": {},
     "output_type": "execute_result"
    }
   ],
   "source": [
    "xgb.fit(X_train, Y_train)"
   ]
  },
  {
   "cell_type": "code",
   "execution_count": 73,
   "metadata": {},
   "outputs": [
    {
     "name": "stderr",
     "output_type": "stream",
     "text": [
      "C:\\Users\\user\\Anaconda3\\lib\\site-packages\\sklearn\\preprocessing\\label.py:151: DeprecationWarning: The truth value of an empty array is ambiguous. Returning False, but in future this will result in an error. Use `array.size > 0` to check that an array is not empty.\n",
      "  if diff:\n"
     ]
    }
   ],
   "source": [
    "fx_xgb_predict = xgb.predict(X_test)"
   ]
  },
  {
   "cell_type": "code",
   "execution_count": 75,
   "metadata": {},
   "outputs": [],
   "source": [
    "Y_zero['FX_IND'] = fx_xgb_predict"
   ]
  },
  {
   "cell_type": "code",
   "execution_count": 79,
   "metadata": {},
   "outputs": [
    {
     "data": {
      "text/plain": [
       "476"
      ]
     },
     "execution_count": 79,
     "metadata": {},
     "output_type": "execute_result"
    }
   ],
   "source": [
    "fx_xgb_predict.tolist().count(1)"
   ]
  },
  {
   "cell_type": "code",
   "execution_count": 76,
   "metadata": {},
   "outputs": [],
   "source": [
    "TBN_Y_FX = Y_zero.loc[:,['CUST_NO', 'FX_IND']]\n",
    "TBN_Y_FX.head()\n",
    "TBN_Y_FX.to_csv('./data/TBN_Y_FX_XGB_30.csv', index = False)"
   ]
  }
 ],
 "metadata": {
  "kernelspec": {
   "display_name": "Python 3",
   "language": "python",
   "name": "python3"
  },
  "language_info": {
   "codemirror_mode": {
    "name": "ipython",
    "version": 3
   },
   "file_extension": ".py",
   "mimetype": "text/x-python",
   "name": "python",
   "nbconvert_exporter": "python",
   "pygments_lexer": "ipython3",
   "version": "3.7.0"
  }
 },
 "nbformat": 4,
 "nbformat_minor": 2
}
